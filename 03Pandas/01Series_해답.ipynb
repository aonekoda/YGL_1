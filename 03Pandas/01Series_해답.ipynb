{
 "cells": [
  {
   "cell_type": "markdown",
   "metadata": {
    "colab_type": "text",
    "id": "Vg0cf6MSgSOh"
   },
   "source": [
    "# 실습하기"
   ]
  },
  {
   "cell_type": "markdown",
   "metadata": {
    "colab_type": "text",
    "id": "O3TWcYmXdEtZ"
   },
   "source": [
    "1. 다음과 같은 시리즈 데이터를 생성하시오.\n",
    "```\n",
    ">>>population = pd.Series([852469, 1015785, 485199, np.nan], \n",
    "                       index=['San Francisco', 'San Jose', 'Sacramento', 'Seoul'])\n",
    "```"
   ]
  },
  {
   "cell_type": "code",
   "execution_count": 1,
   "metadata": {},
   "outputs": [],
   "source": [
    "import pandas as pd\n",
    "import numpy as np"
   ]
  },
  {
   "cell_type": "code",
   "execution_count": null,
   "metadata": {
    "colab": {
     "base_uri": "https://localhost:8080/",
     "height": 107
    },
    "colab_type": "code",
    "executionInfo": {
     "elapsed": 1679,
     "status": "ok",
     "timestamp": 1593055070564,
     "user": {
      "displayName": "이선화",
      "photoUrl": "https://lh3.googleusercontent.com/a-/AOh14GiGEcSuxiespWUAaMC6eXljdm2fXmv29ZXuZ14n=s64",
      "userId": "08084686575025891086"
     },
     "user_tz": -540
    },
    "id": "1WGxMpJ1ck8-",
    "outputId": "f8d81833-ea47-4b89-d858-79f254dfab74"
   },
   "outputs": [
    {
     "data": {
      "text/plain": [
       "San Francisco     852469.0\n",
       "San Jose         1015785.0\n",
       "Sacramento        485199.0\n",
       "Seoul                  NaN\n",
       "dtype: float64"
      ]
     },
     "execution_count": 54,
     "metadata": {
      "tags": []
     },
     "output_type": "execute_result"
    }
   ],
   "source": [
    "population = pd.Series([852469, 1015785, 485199, np.nan], \n",
    "                       index=['San Francisco', 'San Jose', 'Sacramento', 'Seoul'])\n",
    "population"
   ]
  },
  {
   "cell_type": "markdown",
   "metadata": {
    "colab_type": "text",
    "id": "rciQZjfBdQKF"
   },
   "source": [
    "2. population에서 인구 500000명 이상의 값을 출력하시오.\n"
   ]
  },
  {
   "cell_type": "code",
   "execution_count": null,
   "metadata": {
    "colab": {
     "base_uri": "https://localhost:8080/",
     "height": 71
    },
    "colab_type": "code",
    "executionInfo": {
     "elapsed": 1610,
     "status": "ok",
     "timestamp": 1593055073998,
     "user": {
      "displayName": "이선화",
      "photoUrl": "https://lh3.googleusercontent.com/a-/AOh14GiGEcSuxiespWUAaMC6eXljdm2fXmv29ZXuZ14n=s64",
      "userId": "08084686575025891086"
     },
     "user_tz": -540
    },
    "id": "EG_cbyTPdjlf",
    "outputId": "11f24a0b-fbd1-41a3-93de-975919315be5"
   },
   "outputs": [
    {
     "data": {
      "text/plain": [
       "San Francisco     852469.0\n",
       "San Jose         1015785.0\n",
       "dtype: float64"
      ]
     },
     "execution_count": 55,
     "metadata": {
      "tags": []
     },
     "output_type": "execute_result"
    }
   ],
   "source": [
    "population[population > 500000]"
   ]
  },
  {
   "cell_type": "markdown",
   "metadata": {
    "colab_type": "text",
    "id": "u5k2ts3UeGhM"
   },
   "source": [
    "3. population의 인덱스 명을 출력하시오."
   ]
  },
  {
   "cell_type": "code",
   "execution_count": null,
   "metadata": {
    "colab": {
     "base_uri": "https://localhost:8080/",
     "height": 35
    },
    "colab_type": "code",
    "executionInfo": {
     "elapsed": 1363,
     "status": "ok",
     "timestamp": 1593055077126,
     "user": {
      "displayName": "이선화",
      "photoUrl": "https://lh3.googleusercontent.com/a-/AOh14GiGEcSuxiespWUAaMC6eXljdm2fXmv29ZXuZ14n=s64",
      "userId": "08084686575025891086"
     },
     "user_tz": -540
    },
    "id": "zXzxjpBHeik_",
    "outputId": "f3b9484c-4cb1-4c1e-a42a-2d01484089c1"
   },
   "outputs": [
    {
     "data": {
      "text/plain": [
       "Index(['San Francisco', 'San Jose', 'Sacramento', 'Seoul'], dtype='object')"
      ]
     },
     "execution_count": 56,
     "metadata": {
      "tags": []
     },
     "output_type": "execute_result"
    }
   ],
   "source": [
    "population.index"
   ]
  },
  {
   "cell_type": "markdown",
   "metadata": {
    "colab_type": "text",
    "id": "5Dn-e4g_emEp"
   },
   "source": [
    "4. 'San Jose'의 인구수를 출력하시오."
   ]
  },
  {
   "cell_type": "code",
   "execution_count": null,
   "metadata": {
    "colab": {
     "base_uri": "https://localhost:8080/",
     "height": 35
    },
    "colab_type": "code",
    "executionInfo": {
     "elapsed": 1106,
     "status": "ok",
     "timestamp": 1593055188082,
     "user": {
      "displayName": "이선화",
      "photoUrl": "https://lh3.googleusercontent.com/a-/AOh14GiGEcSuxiespWUAaMC6eXljdm2fXmv29ZXuZ14n=s64",
      "userId": "08084686575025891086"
     },
     "user_tz": -540
    },
    "id": "O6i_fZjYfB4T",
    "outputId": "93714536-f6d9-4a51-a460-cb94541ab06b"
   },
   "outputs": [
    {
     "data": {
      "text/plain": [
       "1015785.0"
      ]
     },
     "execution_count": 58,
     "metadata": {
      "tags": []
     },
     "output_type": "execute_result"
    }
   ],
   "source": [
    "population['San Jose']"
   ]
  },
  {
   "cell_type": "markdown",
   "metadata": {
    "colab_type": "text",
    "id": "av1UQGcNfE_9"
   },
   "source": [
    "5. 결측치를 0으로 대체하시오."
   ]
  },
  {
   "cell_type": "code",
   "execution_count": null,
   "metadata": {
    "colab": {
     "base_uri": "https://localhost:8080/",
     "height": 107
    },
    "colab_type": "code",
    "executionInfo": {
     "elapsed": 1159,
     "status": "ok",
     "timestamp": 1593055246073,
     "user": {
      "displayName": "이선화",
      "photoUrl": "https://lh3.googleusercontent.com/a-/AOh14GiGEcSuxiespWUAaMC6eXljdm2fXmv29ZXuZ14n=s64",
      "userId": "08084686575025891086"
     },
     "user_tz": -540
    },
    "id": "Qtc5ACFofX10",
    "outputId": "dc0b56cb-7be8-4f8b-e0c6-5da0a6a99e96"
   },
   "outputs": [
    {
     "data": {
      "text/plain": [
       "San Francisco     852469.0\n",
       "San Jose         1015785.0\n",
       "Sacramento        485199.0\n",
       "Seoul                  0.0\n",
       "dtype: float64"
      ]
     },
     "execution_count": 59,
     "metadata": {
      "tags": []
     },
     "output_type": "execute_result"
    }
   ],
   "source": [
    "population = population.fillna(0)\n",
    "population"
   ]
  },
  {
   "cell_type": "markdown",
   "metadata": {
    "colab_type": "text",
    "id": "h_XI2UKGffI3"
   },
   "source": [
    "6. 인구의 평균과 최소, 최대값을 구하시오."
   ]
  },
  {
   "cell_type": "code",
   "execution_count": null,
   "metadata": {
    "colab": {
     "base_uri": "https://localhost:8080/",
     "height": 71
    },
    "colab_type": "code",
    "executionInfo": {
     "elapsed": 989,
     "status": "ok",
     "timestamp": 1593055382473,
     "user": {
      "displayName": "이선화",
      "photoUrl": "https://lh3.googleusercontent.com/a-/AOh14GiGEcSuxiespWUAaMC6eXljdm2fXmv29ZXuZ14n=s64",
      "userId": "08084686575025891086"
     },
     "user_tz": -540
    },
    "id": "9DXSHvMwfqO8",
    "outputId": "4dd457a0-ea7c-4fb2-e23d-5642fad1a78c"
   },
   "outputs": [
    {
     "name": "stdout",
     "output_type": "stream",
     "text": [
      "평균: 588363.25\n",
      "최소: 0.0\n",
      "최대: 1015785.0\n"
     ]
    }
   ],
   "source": [
    "print('평균:', population.mean())\n",
    "print('최소:', population.min())\n",
    "print('최대:', population.max())"
   ]
  }
 ],
 "metadata": {
  "colab": {
   "authorship_tag": "ABX9TyN94PEMmduEKGRwRfpaL+sW",
   "collapsed_sections": [],
   "name": "01Series_해답.ipynb",
   "provenance": []
  },
  "kernelspec": {
   "display_name": "Python 3",
   "language": "python",
   "name": "python3"
  },
  "language_info": {
   "codemirror_mode": {
    "name": "ipython",
    "version": 3
   },
   "file_extension": ".py",
   "mimetype": "text/x-python",
   "name": "python",
   "nbconvert_exporter": "python",
   "pygments_lexer": "ipython3",
   "version": "3.8.3"
  }
 },
 "nbformat": 4,
 "nbformat_minor": 1
}
