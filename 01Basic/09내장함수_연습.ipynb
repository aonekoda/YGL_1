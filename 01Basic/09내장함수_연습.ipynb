{
 "cells": [
  {
   "cell_type": "markdown",
   "metadata": {},
   "source": [
    "# 내장 함수 연습문제\n",
    "---"
   ]
  },
  {
   "cell_type": "markdown",
   "metadata": {},
   "source": [
    "1. 아래 두 개의 튜플을 하나의 딕셔너리로 변환하라. keys를 키로, vals를 값으로 result 이름의 딕셔너리로 저장한다. zip함수를 사용하시오.\n",
    "```\n",
    "keys = (apple, pear, peach)\n",
    "vals = (300, 250, 400)\n",
    "실행 예시:\n",
    ">> print(result)\n",
    "{'apple': 300, 'pear': 250, 'peach': 400}\n",
    "```"
   ]
  },
  {
   "cell_type": "code",
   "execution_count": null,
   "metadata": {},
   "outputs": [],
   "source": []
  },
  {
   "cell_type": "markdown",
   "metadata": {},
   "source": [
    "2. (최대값과 최소값) 다음 리스트의 최대값과 최소값의 합을 구하시오.\n",
    "```\n",
    "a = [-8, 2, 7, 5, -3, 5, 0, 1]\n",
    "```"
   ]
  },
  {
   "cell_type": "code",
   "execution_count": null,
   "metadata": {},
   "outputs": [],
   "source": []
  },
  {
   "cell_type": "markdown",
   "metadata": {},
   "source": [
    "3. range함수를 사용하여 0~10까지의 숫자 리스트를 생성해보시오."
   ]
  },
  {
   "cell_type": "code",
   "execution_count": null,
   "metadata": {},
   "outputs": [],
   "source": []
  },
  {
   "cell_type": "markdown",
   "metadata": {},
   "source": [
    "4. 다음의 리스트에서 1번 철수 2번 영희 3번 영수 형태로 출력해 보시오. enumerate를 사용하시오.\n",
    "```\n",
    "names = ['철수', '영희', '영수']\n",
    "```"
   ]
  },
  {
   "cell_type": "code",
   "execution_count": null,
   "metadata": {},
   "outputs": [],
   "source": []
  },
  {
   "cell_type": "markdown",
   "metadata": {},
   "source": [
    "5. 다음과 같이 입력받은 숫자를 2배하는 함수를 만드시오. 이를 map을 이용해서 a 리스트에 적용해 보시오.  \n",
    "\n",
    "```\n",
    "def func(x):\n",
    "    return x * 2\n",
    "\n",
    "a = [1,2,3,4,5]\n",
    "```"
   ]
  },
  {
   "cell_type": "code",
   "execution_count": null,
   "metadata": {},
   "outputs": [],
   "source": []
  },
  {
   "cell_type": "markdown",
   "metadata": {},
   "source": [
    "6. 입력받은 숫자가 음수/양수인지 확인하는 함수를 만드시오. filter 함수를 사용하여 리스트에서 음수를 제거해 보시오.\n"
   ]
  },
  {
   "cell_type": "code",
   "execution_count": null,
   "metadata": {},
   "outputs": [],
   "source": []
  },
  {
   "cell_type": "markdown",
   "metadata": {},
   "source": [
    "7. 다음의 값을 소수점이하 2자리로 반올림하여 표시하시오.\n",
    "\n",
    "```\n",
    "x = 3.141592\n",
    "```"
   ]
  },
  {
   "cell_type": "code",
   "execution_count": null,
   "metadata": {},
   "outputs": [],
   "source": []
  }
 ],
 "metadata": {
  "kernelspec": {
   "display_name": "Python 3",
   "language": "python",
   "name": "python3"
  },
  "language_info": {
   "codemirror_mode": {
    "name": "ipython",
    "version": 3
   },
   "file_extension": ".py",
   "mimetype": "text/x-python",
   "name": "python",
   "nbconvert_exporter": "python",
   "pygments_lexer": "ipython3",
   "version": "3.7.1"
  }
 },
 "nbformat": 4,
 "nbformat_minor": 2
}
