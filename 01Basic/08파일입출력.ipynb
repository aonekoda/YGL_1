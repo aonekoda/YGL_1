{
 "cells": [
  {
   "cell_type": "code",
   "execution_count": null,
   "metadata": {
    "colab": {},
    "colab_type": "code",
    "id": "lFSO7Vm7ZBeN"
   },
   "outputs": [],
   "source": [
    "f = open('test.txt', 'w')\n",
    "\n",
    "for i in range(1,11):\n",
    "    f.write('{}번째 줄입니다.\\n'.format(i))\n",
    "    \n",
    "f.close()"
   ]
  },
  {
   "cell_type": "code",
   "execution_count": null,
   "metadata": {
    "colab": {},
    "colab_type": "code",
    "id": "Re7_WZqJZBeR"
   },
   "outputs": [],
   "source": [
    "f = open('test.txt', 'a')\n",
    "\n",
    "for i in range(11,16):\n",
    "    f.write('{}번째 줄입니다.\\n'.format(i))\n",
    "    \n",
    "f.close()"
   ]
  },
  {
   "cell_type": "code",
   "execution_count": null,
   "metadata": {
    "colab": {},
    "colab_type": "code",
    "id": "q3BD2lPTZBeT",
    "outputId": "6ccc37d1-14af-4b06-cf2d-79812926c3e0"
   },
   "outputs": [
    {
     "name": "stdout",
     "output_type": "stream",
     "text": [
      "1번째 줄입니다.\n",
      "\n",
      "2번째 줄입니다.\n",
      "\n",
      "3번째 줄입니다.\n",
      "\n",
      "4번째 줄입니다.\n",
      "\n",
      "5번째 줄입니다.\n",
      "\n",
      "6번째 줄입니다.\n",
      "\n",
      "7번째 줄입니다.\n",
      "\n",
      "8번째 줄입니다.\n",
      "\n",
      "9번째 줄입니다.\n",
      "\n",
      "10번째 줄입니다.\n",
      "\n"
     ]
    }
   ],
   "source": [
    "f = open('test.txt', 'r')\n",
    "\n",
    "lines = f.readlines()\n",
    "\n",
    "for line in lines:\n",
    "    print(line)\n",
    "    \n",
    "f.close()"
   ]
  },
  {
   "cell_type": "code",
   "execution_count": null,
   "metadata": {
    "colab": {},
    "colab_type": "code",
    "id": "x-xNwJLhZBeV",
    "outputId": "c73af910-e8de-4842-bbe4-c0cecb77164e"
   },
   "outputs": [
    {
     "name": "stdout",
     "output_type": "stream",
     "text": [
      "435 87.0\n"
     ]
    }
   ],
   "source": [
    "f = open('../data/score.txt', 'r')\n",
    "\n",
    "scores = f.readlines()\n",
    "tot = 0\n",
    "for score in scores:\n",
    "    tot += int(score)\n",
    "avg = tot/len(scores)\n",
    "f.close()\n",
    "\n",
    "print(tot, avg)"
   ]
  },
  {
   "cell_type": "code",
   "execution_count": null,
   "metadata": {
    "colab": {},
    "colab_type": "code",
    "id": "jOvypG_PZBeY"
   },
   "outputs": [],
   "source": [
    "f = open('result.txt','w')\n",
    "f.write(\"총합은 {}, 평균은 {} 입니다.\".format(tot, avg))\n",
    "f.close()"
   ]
  }
 ],
 "metadata": {
  "colab": {
   "name": "08파일입출력.ipynb",
   "provenance": []
  },
  "kernelspec": {
   "display_name": "Python 3",
   "language": "python",
   "name": "python3"
  },
  "language_info": {
   "codemirror_mode": {
    "name": "ipython",
    "version": 3
   },
   "file_extension": ".py",
   "mimetype": "text/x-python",
   "name": "python",
   "nbconvert_exporter": "python",
   "pygments_lexer": "ipython3",
   "version": "3.7.6"
  }
 },
 "nbformat": 4,
 "nbformat_minor": 1
}
