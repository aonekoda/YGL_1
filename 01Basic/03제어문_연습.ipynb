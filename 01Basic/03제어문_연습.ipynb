{
 "cells": [
  {
   "cell_type": "markdown",
   "metadata": {},
   "source": [
    "# 제어문 연습 문제 \n",
    "___"
   ]
  },
  {
   "cell_type": "markdown",
   "metadata": {},
   "source": [
    "1. 아래 코드를 그대로 실행해 보고 왜 그런 결과가 나오는지 확인하시오.\n",
    "```\n",
    "if 4 < 3:  \n",
    "     print(\"Hello World.\")  \n",
    "else:  \n",
    "     print(\"Hi, there.\")  \n",
    "```"
   ]
  },
  {
   "cell_type": "code",
   "execution_count": null,
   "metadata": {},
   "outputs": [],
   "source": []
  },
  {
   "cell_type": "markdown",
   "metadata": {},
   "source": [
    "2. 대표적인 콘솔 입력 함수 input을 사용해서 문제를 풀어봅시다.  \n",
    "사용자로부터 하나의 숫자를 입력받고, 입력 받은 숫자에 10을 더해 출력하라.  \n",
    "\n",
    ">숫자를 입력하세요: 30  \n",
    "40"
   ]
  },
  {
   "cell_type": "code",
   "execution_count": null,
   "metadata": {},
   "outputs": [],
   "source": []
  },
  {
   "cell_type": "markdown",
   "metadata": {},
   "source": [
    "3. 사용자로 입력받은 단어가 아래 fruit 리스트에 포함되어 있는지를 확인하라. 포함되었다면 \"정답입니다\"를 아닐 경우 \"오답입니다\" 출력하라.\n",
    "```\n",
    "fruit = [\"사과\", \"포도\", \"홍시\"]\n",
    ">> 내가 좋아하는과일은? 사과\n",
    "정답입니다.\n",
    "```"
   ]
  },
  {
   "cell_type": "code",
   "execution_count": null,
   "metadata": {},
   "outputs": [],
   "source": []
  },
  {
   "cell_type": "markdown",
   "metadata": {},
   "source": [
    "4. menu 리스트에는 판매중인 메뉴가 저장돼 있다. 아래와 같이 화면에 출력하라.  \n",
    "\n",
    "```\n",
    "menu = [\"김밥\", \"라면\", \"튀김\"]\n",
    "\n",
    "실행 예\n",
    "오늘의 메뉴:김밥\n",
    "오늘의 메뉴:라면\n",
    "오늘의 메뉴:튀김\n",
    "```"
   ]
  },
  {
   "cell_type": "code",
   "execution_count": null,
   "metadata": {},
   "outputs": [],
   "source": []
  },
  {
   "cell_type": "markdown",
   "metadata": {},
   "source": [
    "5. my_list에서 음수를 출력하라.  \n",
    "```\n",
    "my_list = [3, -20, -3, 44]\n",
    "```"
   ]
  },
  {
   "cell_type": "code",
   "execution_count": null,
   "metadata": {},
   "outputs": [],
   "source": []
  },
  {
   "cell_type": "markdown",
   "metadata": {},
   "source": [
    "6. 내장 함수를 사용하지 않고 반복문을 사용해서 my_list에 저장된 모든 수의 합를 출력하라\n",
    "```\n",
    "my_list = [3, 4, 5]\n",
    "출력예:\n",
    "12\n",
    "```"
   ]
  },
  {
   "cell_type": "code",
   "execution_count": null,
   "metadata": {},
   "outputs": [],
   "source": []
  },
  {
   "cell_type": "markdown",
   "metadata": {},
   "source": [
    "7. my_list에서 10보다 크고 20 보다 작으면서 3의 배수일 경우 화면에 출력하라\n",
    "```\n",
    "my_list = [13, 21, 12, 14, 30, 18]\n",
    "실행 예:\n",
    "12\n",
    "18\n",
    "```"
   ]
  },
  {
   "cell_type": "code",
   "execution_count": null,
   "metadata": {},
   "outputs": [],
   "source": []
  }
 ],
 "metadata": {
  "kernelspec": {
   "display_name": "Python 3",
   "language": "python",
   "name": "python3"
  },
  "language_info": {
   "codemirror_mode": {
    "name": "ipython",
    "version": 3
   },
   "file_extension": ".py",
   "mimetype": "text/x-python",
   "name": "python",
   "nbconvert_exporter": "python",
   "pygments_lexer": "ipython3",
   "version": "3.7.1"
  }
 },
 "nbformat": 4,
 "nbformat_minor": 2
}
